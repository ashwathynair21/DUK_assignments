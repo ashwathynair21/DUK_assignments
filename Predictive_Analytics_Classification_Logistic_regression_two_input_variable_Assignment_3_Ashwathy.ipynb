{
  "nbformat": 4,
  "nbformat_minor": 0,
  "metadata": {
    "colab": {
      "provenance": []
    },
    "kernelspec": {
      "name": "python3",
      "display_name": "Python 3"
    },
    "language_info": {
      "name": "python"
    }
  },
  "cells": [
    {
      "cell_type": "markdown",
      "source": [
        "# Question\n",
        "\n",
        "During campus interviews, company XYZ typically evaluates students based on their test scores from the company's assessment, their % of mark, and interview performance. However, moving forward, the company has decided not to interview all students and instead needs to filter candidates before scheduling interviews.\n",
        "\n",
        "The company possesses historical data that includes test scores, CGPA, and selection outcomes for previous candidates. This data will be utilized to predict whether a new candidate, with a specific test score and CGPA, will be selected for an interview or not.\n",
        "\n",
        "Data Set: interviewData.csv"
      ],
      "metadata": {
        "id": "c3B3t5rzc9OG"
      }
    },
    {
      "cell_type": "code",
      "execution_count": 3,
      "metadata": {
        "colab": {
          "base_uri": "https://localhost:8080/",
          "height": 206
        },
        "id": "roEOOdT_XCiT",
        "outputId": "4d5f0fd1-5d10-451c-acea-a98c80a36715"
      },
      "outputs": [
        {
          "output_type": "execute_result",
          "data": {
            "text/plain": [
              "   Exam Mark  test score Selection\n",
              "0  34.623660   78.024693        No\n",
              "1  30.286711   43.894998        No\n",
              "2  35.847409   72.902198        No\n",
              "3  60.182599   86.308552       Yes\n",
              "4  79.032736   75.344376       Yes"
            ],
            "text/html": [
              "\n",
              "  <div id=\"df-5829c28a-32e1-44ce-aa97-b31275322745\" class=\"colab-df-container\">\n",
              "    <div>\n",
              "<style scoped>\n",
              "    .dataframe tbody tr th:only-of-type {\n",
              "        vertical-align: middle;\n",
              "    }\n",
              "\n",
              "    .dataframe tbody tr th {\n",
              "        vertical-align: top;\n",
              "    }\n",
              "\n",
              "    .dataframe thead th {\n",
              "        text-align: right;\n",
              "    }\n",
              "</style>\n",
              "<table border=\"1\" class=\"dataframe\">\n",
              "  <thead>\n",
              "    <tr style=\"text-align: right;\">\n",
              "      <th></th>\n",
              "      <th>Exam Mark</th>\n",
              "      <th>test score</th>\n",
              "      <th>Selection</th>\n",
              "    </tr>\n",
              "  </thead>\n",
              "  <tbody>\n",
              "    <tr>\n",
              "      <th>0</th>\n",
              "      <td>34.623660</td>\n",
              "      <td>78.024693</td>\n",
              "      <td>No</td>\n",
              "    </tr>\n",
              "    <tr>\n",
              "      <th>1</th>\n",
              "      <td>30.286711</td>\n",
              "      <td>43.894998</td>\n",
              "      <td>No</td>\n",
              "    </tr>\n",
              "    <tr>\n",
              "      <th>2</th>\n",
              "      <td>35.847409</td>\n",
              "      <td>72.902198</td>\n",
              "      <td>No</td>\n",
              "    </tr>\n",
              "    <tr>\n",
              "      <th>3</th>\n",
              "      <td>60.182599</td>\n",
              "      <td>86.308552</td>\n",
              "      <td>Yes</td>\n",
              "    </tr>\n",
              "    <tr>\n",
              "      <th>4</th>\n",
              "      <td>79.032736</td>\n",
              "      <td>75.344376</td>\n",
              "      <td>Yes</td>\n",
              "    </tr>\n",
              "  </tbody>\n",
              "</table>\n",
              "</div>\n",
              "    <div class=\"colab-df-buttons\">\n",
              "\n",
              "  <div class=\"colab-df-container\">\n",
              "    <button class=\"colab-df-convert\" onclick=\"convertToInteractive('df-5829c28a-32e1-44ce-aa97-b31275322745')\"\n",
              "            title=\"Convert this dataframe to an interactive table.\"\n",
              "            style=\"display:none;\">\n",
              "\n",
              "  <svg xmlns=\"http://www.w3.org/2000/svg\" height=\"24px\" viewBox=\"0 -960 960 960\">\n",
              "    <path d=\"M120-120v-720h720v720H120Zm60-500h600v-160H180v160Zm220 220h160v-160H400v160Zm0 220h160v-160H400v160ZM180-400h160v-160H180v160Zm440 0h160v-160H620v160ZM180-180h160v-160H180v160Zm440 0h160v-160H620v160Z\"/>\n",
              "  </svg>\n",
              "    </button>\n",
              "\n",
              "  <style>\n",
              "    .colab-df-container {\n",
              "      display:flex;\n",
              "      gap: 12px;\n",
              "    }\n",
              "\n",
              "    .colab-df-convert {\n",
              "      background-color: #E8F0FE;\n",
              "      border: none;\n",
              "      border-radius: 50%;\n",
              "      cursor: pointer;\n",
              "      display: none;\n",
              "      fill: #1967D2;\n",
              "      height: 32px;\n",
              "      padding: 0 0 0 0;\n",
              "      width: 32px;\n",
              "    }\n",
              "\n",
              "    .colab-df-convert:hover {\n",
              "      background-color: #E2EBFA;\n",
              "      box-shadow: 0px 1px 2px rgba(60, 64, 67, 0.3), 0px 1px 3px 1px rgba(60, 64, 67, 0.15);\n",
              "      fill: #174EA6;\n",
              "    }\n",
              "\n",
              "    .colab-df-buttons div {\n",
              "      margin-bottom: 4px;\n",
              "    }\n",
              "\n",
              "    [theme=dark] .colab-df-convert {\n",
              "      background-color: #3B4455;\n",
              "      fill: #D2E3FC;\n",
              "    }\n",
              "\n",
              "    [theme=dark] .colab-df-convert:hover {\n",
              "      background-color: #434B5C;\n",
              "      box-shadow: 0px 1px 3px 1px rgba(0, 0, 0, 0.15);\n",
              "      filter: drop-shadow(0px 1px 2px rgba(0, 0, 0, 0.3));\n",
              "      fill: #FFFFFF;\n",
              "    }\n",
              "  </style>\n",
              "\n",
              "    <script>\n",
              "      const buttonEl =\n",
              "        document.querySelector('#df-5829c28a-32e1-44ce-aa97-b31275322745 button.colab-df-convert');\n",
              "      buttonEl.style.display =\n",
              "        google.colab.kernel.accessAllowed ? 'block' : 'none';\n",
              "\n",
              "      async function convertToInteractive(key) {\n",
              "        const element = document.querySelector('#df-5829c28a-32e1-44ce-aa97-b31275322745');\n",
              "        const dataTable =\n",
              "          await google.colab.kernel.invokeFunction('convertToInteractive',\n",
              "                                                    [key], {});\n",
              "        if (!dataTable) return;\n",
              "\n",
              "        const docLinkHtml = 'Like what you see? Visit the ' +\n",
              "          '<a target=\"_blank\" href=https://colab.research.google.com/notebooks/data_table.ipynb>data table notebook</a>'\n",
              "          + ' to learn more about interactive tables.';\n",
              "        element.innerHTML = '';\n",
              "        dataTable['output_type'] = 'display_data';\n",
              "        await google.colab.output.renderOutput(dataTable, element);\n",
              "        const docLink = document.createElement('div');\n",
              "        docLink.innerHTML = docLinkHtml;\n",
              "        element.appendChild(docLink);\n",
              "      }\n",
              "    </script>\n",
              "  </div>\n",
              "\n",
              "\n",
              "<div id=\"df-e1fabf4b-26b5-4ea4-91d9-7ee5fcf11de4\">\n",
              "  <button class=\"colab-df-quickchart\" onclick=\"quickchart('df-e1fabf4b-26b5-4ea4-91d9-7ee5fcf11de4')\"\n",
              "            title=\"Suggest charts\"\n",
              "            style=\"display:none;\">\n",
              "\n",
              "<svg xmlns=\"http://www.w3.org/2000/svg\" height=\"24px\"viewBox=\"0 0 24 24\"\n",
              "     width=\"24px\">\n",
              "    <g>\n",
              "        <path d=\"M19 3H5c-1.1 0-2 .9-2 2v14c0 1.1.9 2 2 2h14c1.1 0 2-.9 2-2V5c0-1.1-.9-2-2-2zM9 17H7v-7h2v7zm4 0h-2V7h2v10zm4 0h-2v-4h2v4z\"/>\n",
              "    </g>\n",
              "</svg>\n",
              "  </button>\n",
              "\n",
              "<style>\n",
              "  .colab-df-quickchart {\n",
              "      --bg-color: #E8F0FE;\n",
              "      --fill-color: #1967D2;\n",
              "      --hover-bg-color: #E2EBFA;\n",
              "      --hover-fill-color: #174EA6;\n",
              "      --disabled-fill-color: #AAA;\n",
              "      --disabled-bg-color: #DDD;\n",
              "  }\n",
              "\n",
              "  [theme=dark] .colab-df-quickchart {\n",
              "      --bg-color: #3B4455;\n",
              "      --fill-color: #D2E3FC;\n",
              "      --hover-bg-color: #434B5C;\n",
              "      --hover-fill-color: #FFFFFF;\n",
              "      --disabled-bg-color: #3B4455;\n",
              "      --disabled-fill-color: #666;\n",
              "  }\n",
              "\n",
              "  .colab-df-quickchart {\n",
              "    background-color: var(--bg-color);\n",
              "    border: none;\n",
              "    border-radius: 50%;\n",
              "    cursor: pointer;\n",
              "    display: none;\n",
              "    fill: var(--fill-color);\n",
              "    height: 32px;\n",
              "    padding: 0;\n",
              "    width: 32px;\n",
              "  }\n",
              "\n",
              "  .colab-df-quickchart:hover {\n",
              "    background-color: var(--hover-bg-color);\n",
              "    box-shadow: 0 1px 2px rgba(60, 64, 67, 0.3), 0 1px 3px 1px rgba(60, 64, 67, 0.15);\n",
              "    fill: var(--button-hover-fill-color);\n",
              "  }\n",
              "\n",
              "  .colab-df-quickchart-complete:disabled,\n",
              "  .colab-df-quickchart-complete:disabled:hover {\n",
              "    background-color: var(--disabled-bg-color);\n",
              "    fill: var(--disabled-fill-color);\n",
              "    box-shadow: none;\n",
              "  }\n",
              "\n",
              "  .colab-df-spinner {\n",
              "    border: 2px solid var(--fill-color);\n",
              "    border-color: transparent;\n",
              "    border-bottom-color: var(--fill-color);\n",
              "    animation:\n",
              "      spin 1s steps(1) infinite;\n",
              "  }\n",
              "\n",
              "  @keyframes spin {\n",
              "    0% {\n",
              "      border-color: transparent;\n",
              "      border-bottom-color: var(--fill-color);\n",
              "      border-left-color: var(--fill-color);\n",
              "    }\n",
              "    20% {\n",
              "      border-color: transparent;\n",
              "      border-left-color: var(--fill-color);\n",
              "      border-top-color: var(--fill-color);\n",
              "    }\n",
              "    30% {\n",
              "      border-color: transparent;\n",
              "      border-left-color: var(--fill-color);\n",
              "      border-top-color: var(--fill-color);\n",
              "      border-right-color: var(--fill-color);\n",
              "    }\n",
              "    40% {\n",
              "      border-color: transparent;\n",
              "      border-right-color: var(--fill-color);\n",
              "      border-top-color: var(--fill-color);\n",
              "    }\n",
              "    60% {\n",
              "      border-color: transparent;\n",
              "      border-right-color: var(--fill-color);\n",
              "    }\n",
              "    80% {\n",
              "      border-color: transparent;\n",
              "      border-right-color: var(--fill-color);\n",
              "      border-bottom-color: var(--fill-color);\n",
              "    }\n",
              "    90% {\n",
              "      border-color: transparent;\n",
              "      border-bottom-color: var(--fill-color);\n",
              "    }\n",
              "  }\n",
              "</style>\n",
              "\n",
              "  <script>\n",
              "    async function quickchart(key) {\n",
              "      const quickchartButtonEl =\n",
              "        document.querySelector('#' + key + ' button');\n",
              "      quickchartButtonEl.disabled = true;  // To prevent multiple clicks.\n",
              "      quickchartButtonEl.classList.add('colab-df-spinner');\n",
              "      try {\n",
              "        const charts = await google.colab.kernel.invokeFunction(\n",
              "            'suggestCharts', [key], {});\n",
              "      } catch (error) {\n",
              "        console.error('Error during call to suggestCharts:', error);\n",
              "      }\n",
              "      quickchartButtonEl.classList.remove('colab-df-spinner');\n",
              "      quickchartButtonEl.classList.add('colab-df-quickchart-complete');\n",
              "    }\n",
              "    (() => {\n",
              "      let quickchartButtonEl =\n",
              "        document.querySelector('#df-e1fabf4b-26b5-4ea4-91d9-7ee5fcf11de4 button');\n",
              "      quickchartButtonEl.style.display =\n",
              "        google.colab.kernel.accessAllowed ? 'block' : 'none';\n",
              "    })();\n",
              "  </script>\n",
              "</div>\n",
              "\n",
              "    </div>\n",
              "  </div>\n"
            ],
            "application/vnd.google.colaboratory.intrinsic+json": {
              "type": "dataframe",
              "variable_name": "df",
              "summary": "{\n  \"name\": \"df\",\n  \"rows\": 100,\n  \"fields\": [\n    {\n      \"column\": \"Exam Mark\",\n      \"properties\": {\n        \"dtype\": \"number\",\n        \"std\": 19.458222275425072,\n        \"min\": 30.05882244669796,\n        \"max\": 99.82785779692128,\n        \"num_unique_values\": 100,\n        \"samples\": [\n          57.23870631569862,\n          34.52451385320009,\n          32.72283304060323\n        ],\n        \"semantic_type\": \"\",\n        \"description\": \"\"\n      }\n    },\n    {\n      \"column\": \"test score\",\n      \"properties\": {\n        \"dtype\": \"number\",\n        \"std\": 18.582783039307344,\n        \"min\": 30.60326323428011,\n        \"max\": 98.86943574220612,\n        \"num_unique_values\": 100,\n        \"samples\": [\n          59.51428198012956,\n          60.39634245837173,\n          43.30717306430063\n        ],\n        \"semantic_type\": \"\",\n        \"description\": \"\"\n      }\n    },\n    {\n      \"column\": \"Selection\",\n      \"properties\": {\n        \"dtype\": \"category\",\n        \"num_unique_values\": 2,\n        \"samples\": [\n          \"Yes\",\n          \"No\"\n        ],\n        \"semantic_type\": \"\",\n        \"description\": \"\"\n      }\n    }\n  ]\n}"
            }
          },
          "metadata": {},
          "execution_count": 3
        }
      ],
      "source": [
        "import pandas as pd\n",
        "import numpy as np\n",
        "import matplotlib.pyplot as plt\n",
        "\n",
        "df = pd.read_csv('/content/interviewData.csv',header=None)\n",
        "df.columns = ['Exam Mark','test score','Selection']\n",
        "df.head()"
      ]
    },
    {
      "cell_type": "code",
      "source": [],
      "metadata": {
        "id": "3PbJ2lJhrSBp"
      },
      "execution_count": null,
      "outputs": []
    },
    {
      "cell_type": "markdown",
      "source": [
        "## Exploratory data analysis\n"
      ],
      "metadata": {
        "id": "01iK500VmXtH"
      }
    },
    {
      "cell_type": "markdown",
      "source": [
        "**Answer the following:**\n",
        "* What is your target variable?\n",
        "> The 'Selection' column variables\n",
        "* Do you need to encode the target variable (Yes/No)?\n",
        ">Yes\n",
        "* If yes, briefly explain why you need to encode the target variable.\n",
        "> Because these are categorical variables and for analysis must be converted to numerical data, so encoding is needed\n",
        "* Consider the encoding methods: One-hot encoding, Binary encoding, and Label Encoding. Which one do you apply in this case?\n",
        "> Label encoding can be applied here to assign unique values to each category type\n",
        "* Explain why you have selected the above encoding method.\n",
        "> by using label encoding there won't be data redundancy\n",
        "\n",
        "Read the following article\n",
        "\n",
        "https://medium.com/@swayampatil7918/exploring-different-encoding-techniques-for-machine-learning-models-b762e3b546db"
      ],
      "metadata": {
        "id": "-GCJnRf7Chaz"
      }
    },
    {
      "cell_type": "code",
      "source": [
        "# Create a new dataset by apply the encoding  method selected above on the dataset\n",
        "\n",
        "# Read this to implement this part\n",
        "#  https://scikit-learn.org/stable/modules/classes.html#module-sklearn.preprocessing\n",
        "\n",
        "from sklearn import preprocessing\n",
        "\n",
        "from sklearn.preprocessing import LabelEncoder\n",
        "label_encoder = LabelEncoder()\n",
        "\n",
        "\n",
        "# Transform the target variable\n",
        "df['Selection'] = label_encoder.fit_transform(df['Selection'])\n",
        "df.head()\n",
        "\n",
        "display(df)"
      ],
      "metadata": {
        "colab": {
          "base_uri": "https://localhost:8080/",
          "height": 423
        },
        "id": "AcBqbrVKCpi8",
        "outputId": "55ae7312-9c5c-40ea-93f0-5649926a3a21"
      },
      "execution_count": 4,
      "outputs": [
        {
          "output_type": "display_data",
          "data": {
            "text/plain": [
              "    Exam Mark  test score  Selection\n",
              "0   34.623660   78.024693          0\n",
              "1   30.286711   43.894998          0\n",
              "2   35.847409   72.902198          0\n",
              "3   60.182599   86.308552          1\n",
              "4   79.032736   75.344376          1\n",
              "..        ...         ...        ...\n",
              "95  83.489163   48.380286          1\n",
              "96  42.261701   87.103851          1\n",
              "97  99.315009   68.775409          1\n",
              "98  55.340018   64.931938          1\n",
              "99  74.775893   89.529813          1\n",
              "\n",
              "[100 rows x 3 columns]"
            ],
            "text/html": [
              "\n",
              "  <div id=\"df-cf725d24-eac1-46dc-abc0-d0762ff12f55\" class=\"colab-df-container\">\n",
              "    <div>\n",
              "<style scoped>\n",
              "    .dataframe tbody tr th:only-of-type {\n",
              "        vertical-align: middle;\n",
              "    }\n",
              "\n",
              "    .dataframe tbody tr th {\n",
              "        vertical-align: top;\n",
              "    }\n",
              "\n",
              "    .dataframe thead th {\n",
              "        text-align: right;\n",
              "    }\n",
              "</style>\n",
              "<table border=\"1\" class=\"dataframe\">\n",
              "  <thead>\n",
              "    <tr style=\"text-align: right;\">\n",
              "      <th></th>\n",
              "      <th>Exam Mark</th>\n",
              "      <th>test score</th>\n",
              "      <th>Selection</th>\n",
              "    </tr>\n",
              "  </thead>\n",
              "  <tbody>\n",
              "    <tr>\n",
              "      <th>0</th>\n",
              "      <td>34.623660</td>\n",
              "      <td>78.024693</td>\n",
              "      <td>0</td>\n",
              "    </tr>\n",
              "    <tr>\n",
              "      <th>1</th>\n",
              "      <td>30.286711</td>\n",
              "      <td>43.894998</td>\n",
              "      <td>0</td>\n",
              "    </tr>\n",
              "    <tr>\n",
              "      <th>2</th>\n",
              "      <td>35.847409</td>\n",
              "      <td>72.902198</td>\n",
              "      <td>0</td>\n",
              "    </tr>\n",
              "    <tr>\n",
              "      <th>3</th>\n",
              "      <td>60.182599</td>\n",
              "      <td>86.308552</td>\n",
              "      <td>1</td>\n",
              "    </tr>\n",
              "    <tr>\n",
              "      <th>4</th>\n",
              "      <td>79.032736</td>\n",
              "      <td>75.344376</td>\n",
              "      <td>1</td>\n",
              "    </tr>\n",
              "    <tr>\n",
              "      <th>...</th>\n",
              "      <td>...</td>\n",
              "      <td>...</td>\n",
              "      <td>...</td>\n",
              "    </tr>\n",
              "    <tr>\n",
              "      <th>95</th>\n",
              "      <td>83.489163</td>\n",
              "      <td>48.380286</td>\n",
              "      <td>1</td>\n",
              "    </tr>\n",
              "    <tr>\n",
              "      <th>96</th>\n",
              "      <td>42.261701</td>\n",
              "      <td>87.103851</td>\n",
              "      <td>1</td>\n",
              "    </tr>\n",
              "    <tr>\n",
              "      <th>97</th>\n",
              "      <td>99.315009</td>\n",
              "      <td>68.775409</td>\n",
              "      <td>1</td>\n",
              "    </tr>\n",
              "    <tr>\n",
              "      <th>98</th>\n",
              "      <td>55.340018</td>\n",
              "      <td>64.931938</td>\n",
              "      <td>1</td>\n",
              "    </tr>\n",
              "    <tr>\n",
              "      <th>99</th>\n",
              "      <td>74.775893</td>\n",
              "      <td>89.529813</td>\n",
              "      <td>1</td>\n",
              "    </tr>\n",
              "  </tbody>\n",
              "</table>\n",
              "<p>100 rows × 3 columns</p>\n",
              "</div>\n",
              "    <div class=\"colab-df-buttons\">\n",
              "\n",
              "  <div class=\"colab-df-container\">\n",
              "    <button class=\"colab-df-convert\" onclick=\"convertToInteractive('df-cf725d24-eac1-46dc-abc0-d0762ff12f55')\"\n",
              "            title=\"Convert this dataframe to an interactive table.\"\n",
              "            style=\"display:none;\">\n",
              "\n",
              "  <svg xmlns=\"http://www.w3.org/2000/svg\" height=\"24px\" viewBox=\"0 -960 960 960\">\n",
              "    <path d=\"M120-120v-720h720v720H120Zm60-500h600v-160H180v160Zm220 220h160v-160H400v160Zm0 220h160v-160H400v160ZM180-400h160v-160H180v160Zm440 0h160v-160H620v160ZM180-180h160v-160H180v160Zm440 0h160v-160H620v160Z\"/>\n",
              "  </svg>\n",
              "    </button>\n",
              "\n",
              "  <style>\n",
              "    .colab-df-container {\n",
              "      display:flex;\n",
              "      gap: 12px;\n",
              "    }\n",
              "\n",
              "    .colab-df-convert {\n",
              "      background-color: #E8F0FE;\n",
              "      border: none;\n",
              "      border-radius: 50%;\n",
              "      cursor: pointer;\n",
              "      display: none;\n",
              "      fill: #1967D2;\n",
              "      height: 32px;\n",
              "      padding: 0 0 0 0;\n",
              "      width: 32px;\n",
              "    }\n",
              "\n",
              "    .colab-df-convert:hover {\n",
              "      background-color: #E2EBFA;\n",
              "      box-shadow: 0px 1px 2px rgba(60, 64, 67, 0.3), 0px 1px 3px 1px rgba(60, 64, 67, 0.15);\n",
              "      fill: #174EA6;\n",
              "    }\n",
              "\n",
              "    .colab-df-buttons div {\n",
              "      margin-bottom: 4px;\n",
              "    }\n",
              "\n",
              "    [theme=dark] .colab-df-convert {\n",
              "      background-color: #3B4455;\n",
              "      fill: #D2E3FC;\n",
              "    }\n",
              "\n",
              "    [theme=dark] .colab-df-convert:hover {\n",
              "      background-color: #434B5C;\n",
              "      box-shadow: 0px 1px 3px 1px rgba(0, 0, 0, 0.15);\n",
              "      filter: drop-shadow(0px 1px 2px rgba(0, 0, 0, 0.3));\n",
              "      fill: #FFFFFF;\n",
              "    }\n",
              "  </style>\n",
              "\n",
              "    <script>\n",
              "      const buttonEl =\n",
              "        document.querySelector('#df-cf725d24-eac1-46dc-abc0-d0762ff12f55 button.colab-df-convert');\n",
              "      buttonEl.style.display =\n",
              "        google.colab.kernel.accessAllowed ? 'block' : 'none';\n",
              "\n",
              "      async function convertToInteractive(key) {\n",
              "        const element = document.querySelector('#df-cf725d24-eac1-46dc-abc0-d0762ff12f55');\n",
              "        const dataTable =\n",
              "          await google.colab.kernel.invokeFunction('convertToInteractive',\n",
              "                                                    [key], {});\n",
              "        if (!dataTable) return;\n",
              "\n",
              "        const docLinkHtml = 'Like what you see? Visit the ' +\n",
              "          '<a target=\"_blank\" href=https://colab.research.google.com/notebooks/data_table.ipynb>data table notebook</a>'\n",
              "          + ' to learn more about interactive tables.';\n",
              "        element.innerHTML = '';\n",
              "        dataTable['output_type'] = 'display_data';\n",
              "        await google.colab.output.renderOutput(dataTable, element);\n",
              "        const docLink = document.createElement('div');\n",
              "        docLink.innerHTML = docLinkHtml;\n",
              "        element.appendChild(docLink);\n",
              "      }\n",
              "    </script>\n",
              "  </div>\n",
              "\n",
              "\n",
              "<div id=\"df-4cdbb352-1bd9-4a58-a140-cfaa441d1c09\">\n",
              "  <button class=\"colab-df-quickchart\" onclick=\"quickchart('df-4cdbb352-1bd9-4a58-a140-cfaa441d1c09')\"\n",
              "            title=\"Suggest charts\"\n",
              "            style=\"display:none;\">\n",
              "\n",
              "<svg xmlns=\"http://www.w3.org/2000/svg\" height=\"24px\"viewBox=\"0 0 24 24\"\n",
              "     width=\"24px\">\n",
              "    <g>\n",
              "        <path d=\"M19 3H5c-1.1 0-2 .9-2 2v14c0 1.1.9 2 2 2h14c1.1 0 2-.9 2-2V5c0-1.1-.9-2-2-2zM9 17H7v-7h2v7zm4 0h-2V7h2v10zm4 0h-2v-4h2v4z\"/>\n",
              "    </g>\n",
              "</svg>\n",
              "  </button>\n",
              "\n",
              "<style>\n",
              "  .colab-df-quickchart {\n",
              "      --bg-color: #E8F0FE;\n",
              "      --fill-color: #1967D2;\n",
              "      --hover-bg-color: #E2EBFA;\n",
              "      --hover-fill-color: #174EA6;\n",
              "      --disabled-fill-color: #AAA;\n",
              "      --disabled-bg-color: #DDD;\n",
              "  }\n",
              "\n",
              "  [theme=dark] .colab-df-quickchart {\n",
              "      --bg-color: #3B4455;\n",
              "      --fill-color: #D2E3FC;\n",
              "      --hover-bg-color: #434B5C;\n",
              "      --hover-fill-color: #FFFFFF;\n",
              "      --disabled-bg-color: #3B4455;\n",
              "      --disabled-fill-color: #666;\n",
              "  }\n",
              "\n",
              "  .colab-df-quickchart {\n",
              "    background-color: var(--bg-color);\n",
              "    border: none;\n",
              "    border-radius: 50%;\n",
              "    cursor: pointer;\n",
              "    display: none;\n",
              "    fill: var(--fill-color);\n",
              "    height: 32px;\n",
              "    padding: 0;\n",
              "    width: 32px;\n",
              "  }\n",
              "\n",
              "  .colab-df-quickchart:hover {\n",
              "    background-color: var(--hover-bg-color);\n",
              "    box-shadow: 0 1px 2px rgba(60, 64, 67, 0.3), 0 1px 3px 1px rgba(60, 64, 67, 0.15);\n",
              "    fill: var(--button-hover-fill-color);\n",
              "  }\n",
              "\n",
              "  .colab-df-quickchart-complete:disabled,\n",
              "  .colab-df-quickchart-complete:disabled:hover {\n",
              "    background-color: var(--disabled-bg-color);\n",
              "    fill: var(--disabled-fill-color);\n",
              "    box-shadow: none;\n",
              "  }\n",
              "\n",
              "  .colab-df-spinner {\n",
              "    border: 2px solid var(--fill-color);\n",
              "    border-color: transparent;\n",
              "    border-bottom-color: var(--fill-color);\n",
              "    animation:\n",
              "      spin 1s steps(1) infinite;\n",
              "  }\n",
              "\n",
              "  @keyframes spin {\n",
              "    0% {\n",
              "      border-color: transparent;\n",
              "      border-bottom-color: var(--fill-color);\n",
              "      border-left-color: var(--fill-color);\n",
              "    }\n",
              "    20% {\n",
              "      border-color: transparent;\n",
              "      border-left-color: var(--fill-color);\n",
              "      border-top-color: var(--fill-color);\n",
              "    }\n",
              "    30% {\n",
              "      border-color: transparent;\n",
              "      border-left-color: var(--fill-color);\n",
              "      border-top-color: var(--fill-color);\n",
              "      border-right-color: var(--fill-color);\n",
              "    }\n",
              "    40% {\n",
              "      border-color: transparent;\n",
              "      border-right-color: var(--fill-color);\n",
              "      border-top-color: var(--fill-color);\n",
              "    }\n",
              "    60% {\n",
              "      border-color: transparent;\n",
              "      border-right-color: var(--fill-color);\n",
              "    }\n",
              "    80% {\n",
              "      border-color: transparent;\n",
              "      border-right-color: var(--fill-color);\n",
              "      border-bottom-color: var(--fill-color);\n",
              "    }\n",
              "    90% {\n",
              "      border-color: transparent;\n",
              "      border-bottom-color: var(--fill-color);\n",
              "    }\n",
              "  }\n",
              "</style>\n",
              "\n",
              "  <script>\n",
              "    async function quickchart(key) {\n",
              "      const quickchartButtonEl =\n",
              "        document.querySelector('#' + key + ' button');\n",
              "      quickchartButtonEl.disabled = true;  // To prevent multiple clicks.\n",
              "      quickchartButtonEl.classList.add('colab-df-spinner');\n",
              "      try {\n",
              "        const charts = await google.colab.kernel.invokeFunction(\n",
              "            'suggestCharts', [key], {});\n",
              "      } catch (error) {\n",
              "        console.error('Error during call to suggestCharts:', error);\n",
              "      }\n",
              "      quickchartButtonEl.classList.remove('colab-df-spinner');\n",
              "      quickchartButtonEl.classList.add('colab-df-quickchart-complete');\n",
              "    }\n",
              "    (() => {\n",
              "      let quickchartButtonEl =\n",
              "        document.querySelector('#df-4cdbb352-1bd9-4a58-a140-cfaa441d1c09 button');\n",
              "      quickchartButtonEl.style.display =\n",
              "        google.colab.kernel.accessAllowed ? 'block' : 'none';\n",
              "    })();\n",
              "  </script>\n",
              "</div>\n",
              "\n",
              "  <div id=\"id_9accaf13-8ba7-4ab6-8c99-863301c31b1c\">\n",
              "    <style>\n",
              "      .colab-df-generate {\n",
              "        background-color: #E8F0FE;\n",
              "        border: none;\n",
              "        border-radius: 50%;\n",
              "        cursor: pointer;\n",
              "        display: none;\n",
              "        fill: #1967D2;\n",
              "        height: 32px;\n",
              "        padding: 0 0 0 0;\n",
              "        width: 32px;\n",
              "      }\n",
              "\n",
              "      .colab-df-generate:hover {\n",
              "        background-color: #E2EBFA;\n",
              "        box-shadow: 0px 1px 2px rgba(60, 64, 67, 0.3), 0px 1px 3px 1px rgba(60, 64, 67, 0.15);\n",
              "        fill: #174EA6;\n",
              "      }\n",
              "\n",
              "      [theme=dark] .colab-df-generate {\n",
              "        background-color: #3B4455;\n",
              "        fill: #D2E3FC;\n",
              "      }\n",
              "\n",
              "      [theme=dark] .colab-df-generate:hover {\n",
              "        background-color: #434B5C;\n",
              "        box-shadow: 0px 1px 3px 1px rgba(0, 0, 0, 0.15);\n",
              "        filter: drop-shadow(0px 1px 2px rgba(0, 0, 0, 0.3));\n",
              "        fill: #FFFFFF;\n",
              "      }\n",
              "    </style>\n",
              "    <button class=\"colab-df-generate\" onclick=\"generateWithVariable('df')\"\n",
              "            title=\"Generate code using this dataframe.\"\n",
              "            style=\"display:none;\">\n",
              "\n",
              "  <svg xmlns=\"http://www.w3.org/2000/svg\" height=\"24px\"viewBox=\"0 0 24 24\"\n",
              "       width=\"24px\">\n",
              "    <path d=\"M7,19H8.4L18.45,9,17,7.55,7,17.6ZM5,21V16.75L18.45,3.32a2,2,0,0,1,2.83,0l1.4,1.43a1.91,1.91,0,0,1,.58,1.4,1.91,1.91,0,0,1-.58,1.4L9.25,21ZM18.45,9,17,7.55Zm-12,3A5.31,5.31,0,0,0,4.9,8.1,5.31,5.31,0,0,0,1,6.5,5.31,5.31,0,0,0,4.9,4.9,5.31,5.31,0,0,0,6.5,1,5.31,5.31,0,0,0,8.1,4.9,5.31,5.31,0,0,0,12,6.5,5.46,5.46,0,0,0,6.5,12Z\"/>\n",
              "  </svg>\n",
              "    </button>\n",
              "    <script>\n",
              "      (() => {\n",
              "      const buttonEl =\n",
              "        document.querySelector('#id_9accaf13-8ba7-4ab6-8c99-863301c31b1c button.colab-df-generate');\n",
              "      buttonEl.style.display =\n",
              "        google.colab.kernel.accessAllowed ? 'block' : 'none';\n",
              "\n",
              "      buttonEl.onclick = () => {\n",
              "        google.colab.notebook.generateWithVariable('df');\n",
              "      }\n",
              "      })();\n",
              "    </script>\n",
              "  </div>\n",
              "\n",
              "    </div>\n",
              "  </div>\n"
            ],
            "application/vnd.google.colaboratory.intrinsic+json": {
              "type": "dataframe",
              "variable_name": "df",
              "summary": "{\n  \"name\": \"df\",\n  \"rows\": 100,\n  \"fields\": [\n    {\n      \"column\": \"Exam Mark\",\n      \"properties\": {\n        \"dtype\": \"number\",\n        \"std\": 19.458222275425072,\n        \"min\": 30.05882244669796,\n        \"max\": 99.82785779692128,\n        \"num_unique_values\": 100,\n        \"samples\": [\n          57.23870631569862,\n          34.52451385320009,\n          32.72283304060323\n        ],\n        \"semantic_type\": \"\",\n        \"description\": \"\"\n      }\n    },\n    {\n      \"column\": \"test score\",\n      \"properties\": {\n        \"dtype\": \"number\",\n        \"std\": 18.582783039307344,\n        \"min\": 30.60326323428011,\n        \"max\": 98.86943574220612,\n        \"num_unique_values\": 100,\n        \"samples\": [\n          59.51428198012956,\n          60.39634245837173,\n          43.30717306430063\n        ],\n        \"semantic_type\": \"\",\n        \"description\": \"\"\n      }\n    },\n    {\n      \"column\": \"Selection\",\n      \"properties\": {\n        \"dtype\": \"number\",\n        \"std\": 0,\n        \"min\": 0,\n        \"max\": 1,\n        \"num_unique_values\": 2,\n        \"samples\": [\n          1,\n          0\n        ],\n        \"semantic_type\": \"\",\n        \"description\": \"\"\n      }\n    }\n  ]\n}"
            }
          },
          "metadata": {}
        }
      ]
    },
    {
      "cell_type": "code",
      "source": [
        "# Wrie a code to visualize your data\n",
        "# See https://seaborn.pydata.org/generated/seaborn.scatterplot.html\n",
        "\n",
        "import seaborn as sns\n",
        "\n",
        "sns.scatterplot(data=df,x ='Exam Mark',y='test score',hue ='Selection')"
      ],
      "metadata": {
        "colab": {
          "base_uri": "https://localhost:8080/",
          "height": 467
        },
        "id": "QnZS80GHY09c",
        "outputId": "00776e21-5331-49fa-bab3-5955260ebec7"
      },
      "execution_count": 5,
      "outputs": [
        {
          "output_type": "execute_result",
          "data": {
            "text/plain": [
              "<Axes: xlabel='Exam Mark', ylabel='test score'>"
            ]
          },
          "metadata": {},
          "execution_count": 5
        },
        {
          "output_type": "display_data",
          "data": {
            "text/plain": [
              "<Figure size 640x480 with 1 Axes>"
            ],
            "image/png": "[encoded data removed]"
          },
          "metadata": {}
        }
      ]
    },
    {
      "cell_type": "markdown",
      "source": [
        "## Logistic Regression Model\n",
        "\n",
        "logistic regression model applies the sigmoid to the familiar linear regression model as shown below:\n",
        "\n",
        "$$ \\hat y_{\\mathbf{w},b}(\\mathbf{x}^{(i)}) = g(\\mathbf{w} \\cdot \\mathbf{x}^{(i)} + b ) $$\n",
        "\n",
        "  where\n",
        "\n",
        "  $$g(z) = \\frac{1}{1+e^{-z}}$$\n",
        "\n",
        "That is\n",
        "$$\\hat y_{\\mathbf{w},b}(\\mathbf{x}^{(i)}) = \\frac{1}{1+e^{-(\\mathbf{w} \\cdot \\mathbf{x}^{(i)} + b )}}$$"
      ],
      "metadata": {
        "id": "qbX_C2GMg0a6"
      }
    },
    {
      "cell_type": "code",
      "source": [
        "# Write a function 'predict' to compute the logistic Regression model\n",
        "\n",
        "import numpy as np\n",
        "\n",
        "def sigmoid(z):\n",
        "\n",
        "    return 1 / (1 + np.exp(-z))\n",
        "\n",
        "def predict(w, b, x):\n",
        "\n",
        "    z = np.dot(x, w) + b\n",
        "    return sigmoid(z)"
      ],
      "metadata": {
        "id": "--1_CczfgCi5"
      },
      "execution_count": 11,
      "outputs": []
    },
    {
      "cell_type": "markdown",
      "source": [
        "### Answer the following\n",
        "\n",
        "\n",
        "* Can you use mean squared error as the cost function (Yes/No)?\n",
        "> no\n",
        "* Explain why you said yes or no to the above questions.\n",
        "> we usually use cost function for regression not for classification. Here cost function will become non convex and gradient descent may reach only local minima"
      ],
      "metadata": {
        "id": "iI9R7eivkXg4"
      }
    },
    {
      "cell_type": "markdown",
      "source": [
        "### Log Loss/ Sigmoid Cross Entropy for Logistic regression\n",
        "\n",
        "     \n"
      ],
      "metadata": {
        "id": "FLKSX86XkusP"
      }
    },
    {
      "cell_type": "markdown",
      "source": [
        "$$ loss(\\hat y_{\\mathbf{w},b}(\\mathbf{x}^{(i)}), y^{(i)}) = (-y^{(i)} \\log\\left(\\hat y_{\\mathbf{w},b}\\left( \\mathbf{x}^{(i)} \\right) \\right) - \\left( 1 - y^{(i)}\\right) \\log \\left( 1 - \\hat y_{\\mathbf{w},b}\\left( \\mathbf{x}^{(i)} \\right) \\right) $$"
      ],
      "metadata": {
        "id": "sOwctTQJlV7-"
      }
    },
    {
      "cell_type": "markdown",
      "source": [
        "### Cost function\n"
      ],
      "metadata": {
        "id": "RCfF0UxilNqZ"
      }
    },
    {
      "cell_type": "markdown",
      "source": [
        "$$ J(\\mathbf{w},b) = \\frac{1}{m} \\sum_{i=0}^{m-1} \\left[ loss(\\hat y_{\\mathbf{w},b}(\\mathbf{x}^{(i)}), y^{(i)}) \\right]$$"
      ],
      "metadata": {
        "id": "llzH4Ji1mbUc"
      }
    },
    {
      "cell_type": "markdown",
      "source": [
        "### Answer the following\n",
        "\n",
        "\n",
        "* What is a loss function?\n",
        "> It's the error in prediction of a single value\n",
        "* What is a cost function?\n",
        "> It's the sum of all errors of all values\n",
        "* What is the distinction between them?\n",
        "> loss function is for one instance and cost function is for all instances"
      ],
      "metadata": {
        "id": "ITvwBBAOlmeJ"
      }
    },
    {
      "cell_type": "markdown",
      "source": [
        "### Derivative of the cost function with respect to weights"
      ],
      "metadata": {
        "id": "H2cz2kAUnAvv"
      }
    },
    {
      "cell_type": "markdown",
      "source": [
        "Type here the formulas to compute the derivatives of the const function with respect to $w_1$, $w_2$ and b"
      ],
      "metadata": {
        "id": "AZuBwEDHnHh9"
      }
    },
    {
      "cell_type": "code",
      "source": [
        "# write a function to estimate the derivatives of the cost function\n",
        "\n",
        "def compute_cost(w, b, x, y):\n",
        "\n",
        "    m = len(y)\n",
        "    new_predictions = predict(w, b, x)\n",
        "    cost = -1/m * np.sum(y * np.log(new_predictions) + (1 - y) * np.log(1 - new_predictions))\n",
        "    return cost\n",
        "\n",
        "\n",
        "def compute_gradient_wb(w, b, x, y):\n",
        "\n",
        "    m = len(y)\n",
        "    new_predictions = predict(w, b, x)\n",
        "    dz = new_predictions - y\n",
        "    dw = 1/m * np.dot(x.T, dz)\n",
        "    db = 1/m * np.sum(dz)\n",
        "    return dw, db"
      ],
      "metadata": {
        "id": "AlGq3F_Une2i"
      },
      "execution_count": 13,
      "outputs": []
    },
    {
      "cell_type": "markdown",
      "source": [
        "### Gradient Descent Algorithm"
      ],
      "metadata": {
        "id": "eXGKItwDnuHw"
      }
    },
    {
      "cell_type": "markdown",
      "source": [
        "$$\\begin{align*}\n",
        "&\\text{repeat until convergence:} \\; \\lbrace \\\\\n",
        "&  \\; \\; \\;w_j = w_j -  \\alpha \\frac{\\partial J(\\mathbf{w},b)}{\\partial w_j}   \\; & \\text{for j := 0..n-1} \\\\\n",
        "&  \\; \\; \\;  \\; \\;b = b -  \\alpha \\frac{\\partial J(\\mathbf{w},b)}{\\partial b} \\\\\n",
        "&\\rbrace\n",
        "\\end{align*}$$"
      ],
      "metadata": {
        "id": "x6XMgkr3nt0b"
      }
    },
    {
      "cell_type": "code",
      "source": [
        "# Write a function to perform the gradient decent\n",
        "\n",
        "def gradient_descent(w,b,X_train,X_test,y_train,y_test,alpha,num_iter):\n",
        "  training_costs = []\n",
        "  testing_costs = []\n",
        "  for i in range(num_iter):\n",
        "        dw, db = compute_gradient_wb(w, b, X_train, y_train)\n",
        "        w -= alpha * dw\n",
        "        b -= alpha * db\n",
        "\n",
        "        training_cost = compute_cost(w, b, X_train, y_train)\n",
        "        testing_cost = compute_cost(w, b, X_test, y_test)\n",
        "        training_costs.append(training_cost)\n",
        "        testing_costs.append(testing_cost)\n",
        "\n",
        "        if i % 100 == 0:\n",
        "            print(f\"Iteration {i}: Training Cost = {training_cost}, Testing Cost = {testing_cost}\")\n",
        "\n",
        "  return w, b, training_costs, testing_costs"
      ],
      "metadata": {
        "id": "sA17QN7bkuAD"
      },
      "execution_count": 23,
      "outputs": []
    },
    {
      "cell_type": "markdown",
      "source": [
        "## Model Training"
      ],
      "metadata": {
        "id": "i7mwC8TwoLn7"
      }
    },
    {
      "cell_type": "code",
      "source": [
        "# Write the code to train the model\n",
        "\n",
        "# Split the data into train and test datasets using\n",
        "# see https://scikit-learn.org/stable/modules/generated/sklearn.model_selection.train_test_split.html\n",
        "from sklearn.model_selection import train_test_split\n",
        "\n",
        "# get the data from dataFrame\n",
        "X = df.iloc[:, :-1].values\n",
        "y = df.iloc[:, -1].values\n",
        "\n",
        "# split the dataset such that 20% test and 80% train data\n",
        "X_train, X_test, y_train, y_test = train_test_split(X, y, test_size=0.2, random_state=42)\n",
        "\n",
        "\n",
        "# initilize the weights\n",
        "np.random.seed(1)\n",
        "w_ini = np.random.rand(2)\n",
        "b_ini = -9\n",
        "\n",
        "# Fix the learning rate\n",
        "alpha = 0.001\n",
        "\n",
        "# fix the number of iteration\n",
        "num_iter = 1000\n",
        "\n",
        "\n",
        "w,b,training_costs,testing_costs = gradient_descent(w_ini,b_ini,X_train, X_test, y_train, y_test,alpha,num_iter)\n",
        "print(f\"Final parameters: w:{w}, b:{b}\")"
      ],
      "metadata": {
        "id": "Yzc-FShlkK4n",
        "colab": {
          "base_uri": "https://localhost:8080/"
        },
        "outputId": "99f572a2-466a-459f-bdc2-d9c17c9532f7"
      },
      "execution_count": 25,
      "outputs": [
        {
          "output_type": "stream",
          "name": "stdout",
          "text": [
            "Iteration 0: Training Cost = nan, Testing Cost = nan\n",
            "Iteration 100: Training Cost = 0.27434253660515234, Testing Cost = 0.3472287790440197\n",
            "Iteration 200: Training Cost = 0.27418349111847296, Testing Cost = 0.35183883507712005\n",
            "Iteration 300: Training Cost = 0.2741530354771521, Testing Cost = 0.35182732144615697\n",
            "Iteration 400: Training Cost = 0.274122597007069, Testing Cost = 0.35181086356281105\n",
            "Iteration 500: Training Cost = 0.2740921755516155, Testing Cost = 0.3517944132491621\n",
            "Iteration 600: Training Cost = 0.27406177109608615, Testing Cost = 0.3517779757140786\n",
            "Iteration 700: Training Cost = 0.27403138362579305, Testing Cost = 0.35176155095076145\n",
            "Iteration 800: Training Cost = 0.27400101312606523, Testing Cost = 0.3517451389469256\n",
            "Iteration 900: Training Cost = 0.2739706595822486, Testing Cost = 0.3517287396902949\n",
            "Final parameters: w:[0.08239114 0.06566054], b:-9.026491511598241\n"
          ]
        },
        {
          "output_type": "stream",
          "name": "stderr",
          "text": [
            "<ipython-input-13-a18da8b4cd0d>:7: RuntimeWarning: divide by zero encountered in log\n",
            "  cost = -1/m * np.sum(y * np.log(new_predictions) + (1 - y) * np.log(1 - new_predictions))\n",
            "<ipython-input-13-a18da8b4cd0d>:7: RuntimeWarning: invalid value encountered in multiply\n",
            "  cost = -1/m * np.sum(y * np.log(new_predictions) + (1 - y) * np.log(1 - new_predictions))\n"
          ]
        }
      ]
    },
    {
      "cell_type": "code",
      "source": [
        "# Plot the train and test loss in one plot\n",
        "import matplotlib.pyplot as plt\n",
        "plt.plot(range(num_iter), training_costs, label='Train Loss')\n",
        "plt.plot(range(num_iter), testing_costs, label='Test Loss')\n",
        "plt.xlabel('Iterations')\n",
        "plt.ylabel('Loss')\n",
        "plt.title('Train and Test Loss')\n",
        "plt.legend()\n",
        "plt.show()"
      ],
      "metadata": {
        "id": "JwQvMVrhqs8K",
        "colab": {
          "base_uri": "https://localhost:8080/",
          "height": 472
        },
        "outputId": "d5996dbd-d1e2-4e39-e5c6-2db58badd43c"
      },
      "execution_count": 27,
      "outputs": [
        {
          "output_type": "display_data",
          "data": {
            "text/plain": [
              "<Figure size 640x480 with 1 Axes>"
            ],
            "image/png": "[encoded data removed]"
          },
          "metadata": {}
        }
      ]
    },
    {
      "cell_type": "code",
      "source": [
        "#  plot the Logistic Regression Model for the estimated w and b values\n",
        "import matplotlib.pyplot as plt\n",
        "import seaborn as sns\n",
        "P = 0.5 # the boundary seperation value (probability)\n",
        "\n",
        "# Generate sample points in the domain 30 to 100\n",
        "u = np.linspace(30, 100, 50)\n",
        "v = np.linspace(30, 100, 50)\n",
        "\n",
        "# making it into 2D mesh\n",
        "X, Y = np.meshgrid(u, v)\n",
        "logReg = np.zeros((len(u), len(v)))\n",
        "\n",
        "# Predict the result of the (u,v) pair data with the estimated w and b values\n",
        "for i in range(len(u)):\n",
        "    for j in range(len(v)):\n",
        "      zz = X[i,j]*w[0]+Y[i,j]*w[1]+b\n",
        "      logReg[i,j] = 1/(1+np.exp(-zz))\n",
        "\n",
        "\n",
        "plt.contour(u,v,logReg, levels = [P], colors=\"g\" )\n",
        "\n",
        "# to see the full function plot in the domain\n",
        "# plt.contourf(u,v,logReg)\n",
        "\n",
        "# Plot the real data\n",
        "sns.scatterplot(df,x = 'Exam Mark',y='test score',hue ='Selection')\n",
        "plt.xlabel('Exam Mark')\n",
        "plt.ylabel('test score')\n",
        "plt.title('Logistic Regression Model')\n",
        "plt.legend(title='Selection', loc='lower left')\n",
        "plt.show()"
      ],
      "metadata": {
        "colab": {
          "base_uri": "https://localhost:8080/",
          "height": 472
        },
        "id": "lPFsEO_5vDdc",
        "outputId": "22395cdc-9f8e-485b-ecd3-187796402b0f"
      },
      "execution_count": 28,
      "outputs": [
        {
          "output_type": "display_data",
          "data": {
            "text/plain": [
              "<Figure size 640x480 with 1 Axes>"
            ],
            "image/png": "[encoded data removed]"
          },
          "metadata": {}
        }
      ]
    },
    {
      "cell_type": "markdown",
      "source": [
        "### Answer the following\n",
        "\n",
        "\n",
        "* What does the P value signify in the provided code?\n",
        "> Here p value is the decision boundary i.e. a threshold value above which the chances of passing the interview is positive and below which it is negative\n",
        "* How will altering the P value affect the outcome?\n",
        "> if we increase the p value, the decision boundary will shift towards higher probability of passing and decreasing it will shift the boundary to lower possibility side\n",
        "* What range of values can P encompass?\n",
        "> All probability ranges have values varying between o and 1, so p value here can range from 0 to 1, however it is safer to assign a value of 0.5 looking at the scatterplot and evaluating its trend\n",
        "* Describe the importance of the P value in a project aimed at classifying tumors as malignant or benign.\n",
        ">we can definitely use logistic regression in this case as it is suitable for binary classifications just like the problem discussed above."
      ],
      "metadata": {
        "id": "mZs85GzXoUUD"
      }
    },
    {
      "cell_type": "markdown",
      "source": [
        "### Imagine a scenario where a student scores 65 marks in both the Exam and Test. Use your model to predict whether the student will pass the interview or not."
      ],
      "metadata": {
        "id": "fxrRUraGrTAZ"
      }
    },
    {
      "cell_type": "code",
      "source": [
        "exam_score = 65\n",
        "test_score = 65\n",
        "\n",
        "total_score = np.array([[exam_score, test_score]])\n",
        "pass_chance = predict(w, b, total_score)\n",
        "\n",
        "label = 'Yes' if pass_chance >= 0.5 else 'No'\n",
        "\n",
        "print(f\"The chances of the student passing the interview is: {pass_chance[0]}\")\n",
        "print(f\"The student will {'pass' if label == 'Yes' else 'not pass'} the interview.\")"
      ],
      "metadata": {
        "id": "UG18sSivsBY-",
        "colab": {
          "base_uri": "https://localhost:8080/"
        },
        "outputId": "e5ada9b3-d5ba-4b5d-c503-332b1178c4af"
      },
      "execution_count": 31,
      "outputs": [
        {
          "output_type": "stream",
          "name": "stdout",
          "text": [
            "The chances of the student passing the interview is: 0.6449393168275962\n",
            "The student will pass the interview.\n"
          ]
        }
      ]
    }
  ]
}